{
 "cells": [
  {
   "cell_type": "code",
   "execution_count": 1,
   "metadata": {},
   "outputs": [
    {
     "name": "stderr",
     "output_type": "stream",
     "text": [
      "Using TensorFlow backend.\n"
     ]
    }
   ],
   "source": [
    "import numpy as np\n",
    "import matplotlib.pyplot as plt\n",
    "from pandas import read_csv\n",
    "import math\n",
    "from sklearn.preprocessing import MinMaxScaler\n",
    "from sklearn.metrics import mean_squared_error\n",
    "from keras.models import Sequential\n",
    "from keras.layers import Dense, LSTM"
   ]
  },
  {
   "cell_type": "code",
   "execution_count": 2,
   "metadata": {
    "collapsed": true
   },
   "outputs": [],
   "source": [
    "def create_dataset(dataset, look_back = 1):\n",
    "    dataX, dataY = [], []\n",
    "    for i in range(len(dataset) - look_back - 1):\n",
    "        x = dataset[i:(i+look_back)]\n",
    "        dataX.append(x)\n",
    "        dataY.append(dataset[i+look_back, 0])\n",
    "    return np.array(dataX), np.array(dataY)"
   ]
  },
  {
   "cell_type": "code",
   "execution_count": 3,
   "metadata": {
    "scrolled": true
   },
   "outputs": [],
   "source": [
    "np.random.seed(0)\n",
    "df = read_csv('international-airline-passengers.csv', usecols = [1], engine = 'python', skipfooter = 3)\n",
    "dataset = df.values.astype('float32')"
   ]
  },
  {
   "cell_type": "code",
   "execution_count": 4,
   "metadata": {},
   "outputs": [],
   "source": [
    "scaler = MinMaxScaler(feature_range = (0,1))\n",
    "dataset = scaler.fit_transform(dataset)\n",
    "train_size = int(len(dataset)*0.67)\n",
    "test_size = len(dataset) - train_size\n",
    "train = dataset[0:train_size, :]\n",
    "test = dataset[train_size:, :]\n",
    "\n",
    "look_back = 3\n",
    "train_X, train_Y = create_dataset(train, look_back)\n",
    "test_X, test_Y = create_dataset(test, look_back)\n",
    "\n",
    "train_X = train_X.reshape((train_X.shape[0], 1, look_back))\n",
    "test_X = test_X.reshape((test_X.shape[0], 1, look_back))"
   ]
  },
  {
   "cell_type": "code",
   "execution_count": 5,
   "metadata": {},
   "outputs": [
    {
     "data": {
      "text/plain": [
       "(92, 1, 3)"
      ]
     },
     "execution_count": 5,
     "metadata": {},
     "output_type": "execute_result"
    }
   ],
   "source": [
    "train_X.shape"
   ]
  },
  {
   "cell_type": "code",
   "execution_count": 6,
   "metadata": {
    "scrolled": true
   },
   "outputs": [
    {
     "name": "stdout",
     "output_type": "stream",
     "text": [
      "Epoch 1/30\n",
      "2s - loss: 0.0526\n",
      "Epoch 2/30\n",
      "0s - loss: 0.0250\n",
      "Epoch 3/30\n",
      "0s - loss: 0.0157\n",
      "Epoch 4/30\n",
      "0s - loss: 0.0131\n",
      "Epoch 5/30\n",
      "0s - loss: 0.0120\n",
      "Epoch 6/30\n",
      "0s - loss: 0.0107\n",
      "Epoch 7/30\n",
      "0s - loss: 0.0094\n",
      "Epoch 8/30\n",
      "0s - loss: 0.0082\n",
      "Epoch 9/30\n",
      "0s - loss: 0.0073\n",
      "Epoch 10/30\n",
      "0s - loss: 0.0065\n",
      "Epoch 11/30\n",
      "0s - loss: 0.0059\n",
      "Epoch 12/30\n",
      "0s - loss: 0.0053\n",
      "Epoch 13/30\n",
      "0s - loss: 0.0049\n",
      "Epoch 14/30\n",
      "0s - loss: 0.0046\n",
      "Epoch 15/30\n",
      "0s - loss: 0.0044\n",
      "Epoch 16/30\n",
      "0s - loss: 0.0044\n",
      "Epoch 17/30\n",
      "0s - loss: 0.0042\n",
      "Epoch 18/30\n",
      "0s - loss: 0.0040\n",
      "Epoch 19/30\n",
      "0s - loss: 0.0041\n",
      "Epoch 20/30\n",
      "0s - loss: 0.0039\n",
      "Epoch 21/30\n",
      "0s - loss: 0.0039\n",
      "Epoch 22/30\n",
      "0s - loss: 0.0039\n",
      "Epoch 23/30\n",
      "0s - loss: 0.0039\n",
      "Epoch 24/30\n",
      "0s - loss: 0.0039\n",
      "Epoch 25/30\n",
      "0s - loss: 0.0038\n",
      "Epoch 26/30\n",
      "0s - loss: 0.0038\n",
      "Epoch 27/30\n",
      "0s - loss: 0.0037\n",
      "Epoch 28/30\n",
      "0s - loss: 0.0037\n",
      "Epoch 29/30\n",
      "0s - loss: 0.0037\n",
      "Epoch 30/30\n",
      "0s - loss: 0.0037\n"
     ]
    },
    {
     "data": {
      "text/plain": [
       "<keras.callbacks.History at 0x22eeb16d9b0>"
      ]
     },
     "execution_count": 6,
     "metadata": {},
     "output_type": "execute_result"
    }
   ],
   "source": [
    "model = Sequential()\n",
    "model.add(LSTM(4, input_shape = (1, look_back)))\n",
    "model.add(Dense(1))\n",
    "model.compile(loss = 'mean_squared_error', optimizer = 'adam')\n",
    "model.fit(train_X, train_Y, epochs = 30, batch_size = 1, verbose = 2)"
   ]
  },
  {
   "cell_type": "code",
   "execution_count": 7,
   "metadata": {},
   "outputs": [],
   "source": [
    "trainPredict = model.predict(train_X)\n",
    "testPredict = model.predict(test_X)\n",
    "trainPredict = scaler.inverse_transform(trainPredict)\n",
    "testPredict = scaler.inverse_transform(testPredict)"
   ]
  },
  {
   "cell_type": "code",
   "execution_count": 8,
   "metadata": {},
   "outputs": [],
   "source": [
    "train_Y = scaler.inverse_transform([train_Y])\n",
    "test_Y = scaler.inverse_transform([test_Y])"
   ]
  },
  {
   "cell_type": "code",
   "execution_count": 9,
   "metadata": {},
   "outputs": [
    {
     "data": {
      "text/plain": [
       "(92, 1)"
      ]
     },
     "execution_count": 9,
     "metadata": {},
     "output_type": "execute_result"
    }
   ],
   "source": [
    "train_Y = train_Y.T\n",
    "train_Y.shape"
   ]
  },
  {
   "cell_type": "code",
   "execution_count": 10,
   "metadata": {},
   "outputs": [
    {
     "data": {
      "text/plain": [
       "(44, 1)"
      ]
     },
     "execution_count": 10,
     "metadata": {},
     "output_type": "execute_result"
    }
   ],
   "source": [
    "test_Y = test_Y.T\n",
    "test_Y.shape"
   ]
  },
  {
   "cell_type": "code",
   "execution_count": 11,
   "metadata": {},
   "outputs": [
    {
     "name": "stdout",
     "output_type": "stream",
     "text": [
      "31.641179514176006\n",
      "68.56723107068277\n"
     ]
    }
   ],
   "source": [
    "trainScore = math.sqrt(mean_squared_error(train_Y, trainPredict))\n",
    "print (trainScore)\n",
    "testScore = math.sqrt(mean_squared_error(test_Y, testPredict))\n",
    "print (testScore)"
   ]
  },
  {
   "cell_type": "code",
   "execution_count": 12,
   "metadata": {},
   "outputs": [
    {
     "name": "stdout",
     "output_type": "stream",
     "text": [
      "[[ 277.99998951]\n",
      " [ 283.99999928]\n",
      " [ 277.00000332]\n",
      " [ 317.00000669]\n",
      " [ 313.00000018]]\n",
      "[[ 269.81600952]\n",
      " [ 266.4463501 ]\n",
      " [ 278.45999146]\n",
      " [ 284.96887207]\n",
      " [ 301.07162476]]\n"
     ]
    }
   ],
   "source": [
    "print (train_Y[80:85])\n",
    "print (trainPredict[80:85])"
   ]
  },
  {
   "cell_type": "code",
   "execution_count": 13,
   "metadata": {},
   "outputs": [
    {
     "data": {
      "image/png": "[encoded data removed]",
      "text/plain": [
       "<matplotlib.figure.Figure at 0x22eeb3054e0>"
      ]
     },
     "metadata": {},
     "output_type": "display_data"
    }
   ],
   "source": [
    "plt.plot(np.append(trainPredict, testPredict), label = 'predicted')\n",
    "plt.plot(np.append(train_Y, test_Y), label = 'actual')\n",
    "plt.legend()\n",
    "plt.show()"
   ]
  }
 ],
 "metadata": {
  "kernelspec": {
   "display_name": "Python [conda env:tensorflow-gpu]",
   "language": "python",
   "name": "conda-env-tensorflow-gpu-py"
  },
  "language_info": {
   "codemirror_mode": {
    "name": "ipython",
    "version": 3
   },
   "file_extension": ".py",
   "mimetype": "text/x-python",
   "name": "python",
   "nbconvert_exporter": "python",
   "pygments_lexer": "ipython3",
   "version": "3.6.1"
  }
 },
 "nbformat": 4,
 "nbformat_minor": 2
}
